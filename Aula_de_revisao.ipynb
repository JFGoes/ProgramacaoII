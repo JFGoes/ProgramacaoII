{
  "nbformat": 4,
  "nbformat_minor": 0,
  "metadata": {
    "colab": {
      "provenance": [],
      "toc_visible": true,
      "authorship_tag": "ABX9TyOWieH9eoTHrBvJPiCHnKEP",
      "include_colab_link": true
    },
    "kernelspec": {
      "name": "python3",
      "display_name": "Python 3"
    },
    "language_info": {
      "name": "python"
    }
  },
  "cells": [
    {
      "cell_type": "markdown",
      "metadata": {
        "id": "view-in-github",
        "colab_type": "text"
      },
      "source": [
        "<a href=\"https://colab.research.google.com/github/JFGoes/ProgramacaoII/blob/main/Aula_de_revisao.ipynb\" target=\"_parent\"><img src=\"https://colab.research.google.com/assets/colab-badge.svg\" alt=\"Open In Colab\"/></a>"
      ]
    },
    {
      "cell_type": "markdown",
      "source": [
        "# Lista de Revisão de Programação I"
      ],
      "metadata": {
        "id": "kzTMVuVjS-ki"
      }
    },
    {
      "cell_type": "markdown",
      "source": [
        "Baseada no livro \"Introdução à Programação com Python\" [Link para compra do livro](https://python.nilo.pro.br/)"
      ],
      "metadata": {
        "id": "oA9MxJ3_TD_8"
      }
    },
    {
      "cell_type": "markdown",
      "source": [
        "# 01 - Escreva um programa que leia a quantidade de dias, horas, minutos e segundos do usuário. Calcule o total em segundos.\n",
        "\n"
      ],
      "metadata": {
        "id": "_kqHDWsQ70H8"
      }
    },
    {
      "cell_type": "code",
      "execution_count": 3,
      "metadata": {
        "colab": {
          "base_uri": "https://localhost:8080/"
        },
        "id": "lzAMwRR17zIy",
        "outputId": "10682862-71dd-4ca8-bb15-03519e0837f1"
      },
      "outputs": [
        {
          "output_type": "stream",
          "name": "stdout",
          "text": [
            "Dias:5\n",
            "Horas:2\n",
            "Minutos:10\n",
            "Segundos:15\n",
            "Convertido em segundos é igual a 439815 segundos.\n"
          ]
        }
      ],
      "source": [
        "dias = int(input(\"Dias:\"))\n",
        "horas = int(input(\"Horas:\"))\n",
        "minutos = int(input(\"Minutos:\"))\n",
        "segundos = int(input(\"Segundos:\"))\n",
        "# Um minuto tem 60 segundos\n",
        "# Uma hora tem 3600 (60 * 60) segundos\n",
        "# Um dia tem 24 horas, logo 24 * 3600 segundos\n",
        "total_em_segundos = dias * 24 * 3600 + horas * 3600 + minutos * 60 + segundos\n",
        "print(\"Convertido em segundos é igual a %5d segundos.\" %\n",
        "total_em_segundos)"
      ]
    },
    {
      "cell_type": "markdown",
      "source": [
        "# 2 - Escreva um programa que pergunte a velocidade do carro de um usuário. Caso ultrapasse 80 km/h, exiba uma mensagem dizendo que o usuário foi multado. Nesse caso, exiba o valor da multa, cobrando R$ 5 por km acima de 80 km/h."
      ],
      "metadata": {
        "id": "TuoNzJo58i4r"
      }
    },
    {
      "cell_type": "code",
      "source": [
        "velocidade = float(input(\"Digite a velocidade do seu carro:\"))\n",
        "if velocidade > 80:\n",
        " multa = (velocidade - 80) * 5\n",
        " print(f\"Você foi multado em R$ {multa:7.2f}!\")\n",
        "if velocidade <= 80:\n",
        " print(\"Sua velocidade está ok, boa viagem!\")\n"
      ],
      "metadata": {
        "colab": {
          "base_uri": "https://localhost:8080/"
        },
        "id": "Kydu4Nvz76FC",
        "outputId": "0c639c59-e182-4ee9-e7ef-03002e7c0a3e"
      },
      "execution_count": 5,
      "outputs": [
        {
          "output_type": "stream",
          "name": "stdout",
          "text": [
            "Digite a velocidade do seu carro:65\n",
            "Sua velocidade está ok, boa viagem!\n"
          ]
        }
      ]
    },
    {
      "cell_type": "markdown",
      "source": [
        "#3 -  Escreva um programa que leia três números e que imprima o maior e o menor."
      ],
      "metadata": {
        "id": "AMr65IST82M6"
      }
    },
    {
      "cell_type": "code",
      "source": [
        "a = int(input(\"Digite o primeiro valor:\"))\n",
        "b = int(input(\"Digite o segundo valor:\"))\n",
        "c = int(input(\"Digite o terceiro valor:\"))\n",
        "maior = a\n",
        "if b > a and b > c:\n",
        " maior = b\n",
        "if c > a and c > b:\n",
        " maior = c\n",
        "menor = a\n",
        "if b < c and b < a:\n",
        " menor = b\n",
        "if c < b and c < a:\n",
        " menor = c\n",
        "print(f\"O menor número digitado foi {menor}\")\n",
        "print(f\"O maior número digitado foi {maior}\")\n"
      ],
      "metadata": {
        "colab": {
          "base_uri": "https://localhost:8080/"
        },
        "id": "gfE3LjuR8qV-",
        "outputId": "68ecdd22-ee93-4b01-ea89-005bddb08b60"
      },
      "execution_count": 6,
      "outputs": [
        {
          "output_type": "stream",
          "name": "stdout",
          "text": [
            "Digite o primeiro valor:45\n",
            "Digite o segundo valor:23\n",
            "Digite o terceiro valor:67\n",
            "O menor número digitado foi 23\n",
            "O maior número digitado foi 67\n"
          ]
        }
      ]
    },
    {
      "cell_type": "markdown",
      "source": [
        "# 4 - Escreva um programa que leia dois números e que pergunte qual operação você deseja realizar. Você deve poder calcular soma (+), subtração (-), multiplicação (*) e divisão (/). Exiba o resultado da operação solicitada."
      ],
      "metadata": {
        "id": "6o8iIyaC9I24"
      }
    },
    {
      "cell_type": "code",
      "source": [
        "a = float(input(\"Primeiro número:\"))\n",
        "b = float(input(\"Segundo número:\"))\n",
        "operação = input(\"Digite a operação a realizar (+,-,* ou /):\")\n",
        "if operação == \"+\":\n",
        " resultado = a + b\n",
        "elif operação == \"-\":\n",
        " resultado = a - b\n",
        "elif operação == \"*\":\n",
        " resultado = a * b\n",
        "elif operação == \"/\":\n",
        " resultado = a / b\n",
        "else:\n",
        " print(\"Operação inválida!\")\n",
        " resultado = 0\n",
        "print(\"Resultado: \", resultado)\n"
      ],
      "metadata": {
        "colab": {
          "base_uri": "https://localhost:8080/"
        },
        "id": "e4BeG4mB88Cf",
        "outputId": "1c757309-fce9-4801-e101-78474af176f6"
      },
      "execution_count": 7,
      "outputs": [
        {
          "output_type": "stream",
          "name": "stdout",
          "text": [
            "Primeiro número:5\n",
            "Segundo número:7\n",
            "Digite a operação a realizar (+,-,* ou /):*\n",
            "Resultado:  35.0\n"
          ]
        }
      ]
    },
    {
      "cell_type": "markdown",
      "source": [
        "# 5 - Escreva um programa que calcule o preço a pagar pelo fornecimento de energia elétrica. Pergunte a quantidade de kWh consumida e o tipo de instalação: R para residências, I para indústrias e C para comércios. Calcule o preço a pagar de acordo com a tabela a seguir.\n",
        "\n",
        "Preço por tipo e faixa de consumo\n",
        "\n",
        "Tipo | Faixa (kWh) |Preço \n",
        "---- | ------------| ------\n",
        "Residencial | Até 500 | R\\$ 0,40\n",
        "| Acima de 500 | R$ 0,65 \n",
        "Comercial | Até 1000 | R\\$ 0,55\n",
        "| Acima de 1000 | R\\$ 0,60\n",
        "Industrial | Até 5000 | R\\$ 0,55 \n",
        "| Acima de 5000 | R\\$ 0,60\n",
        "\n",
        "\n",
        "\n",
        "\n"
      ],
      "metadata": {
        "id": "u3iqhiMI9gSW"
      }
    },
    {
      "cell_type": "code",
      "source": [
        "consumo = int(input(\"Consumo em kWh: \"))\n",
        "tipo = input(\"Tipo da instalação (R, C ou I): \")\n",
        "if tipo == \"R\":\n",
        "  if consumo <= 500:\n",
        "   preço = 0.40\n",
        "  else:\n",
        "   preço = 0.65\n",
        "elif tipo == \"I\":\n",
        " if consumo <= 5000:\n",
        "  preço = 0.55\n",
        " else:\n",
        "  preço = 0.60\n",
        "elif tipo == \"C\":\n",
        " if consumo <= 1000:\n",
        "  preço = 0.55\n",
        " else:\n",
        "  preço = 0.60\n",
        "else:\n",
        " preço = 0\n",
        " print(\"Erro ! Tipo de instalação desconhecido!\")\n",
        "custo = consumo * preço\n",
        "print(f\"Valor a pagar: R$ {custo:7.2f}\")\n"
      ],
      "metadata": {
        "colab": {
          "base_uri": "https://localhost:8080/"
        },
        "id": "xq5DcPao9O1T",
        "outputId": "729afd45-506b-4da6-8d8f-a662b5fec965"
      },
      "execution_count": 9,
      "outputs": [
        {
          "output_type": "stream",
          "name": "stdout",
          "text": [
            "Consumo em kWh: 1200\n",
            "Tipo da instalação (R, C ou I): C\n",
            "Valor a pagar: R$  720.00\n"
          ]
        }
      ]
    },
    {
      "cell_type": "markdown",
      "source": [
        "# 6 - Escreva um programa que pergunte o valor inicial de uma dívida e o juro mensal. Pergunte também o valor mensal que será pago. Imprima o número de meses para que a dívida seja paga, o total pago e o total de juros pago."
      ],
      "metadata": {
        "id": "KJs5vsfBCnf4"
      }
    },
    {
      "cell_type": "code",
      "source": [
        "dívida = float(input(\"Dívida: \"))\n",
        "taxa = float(input(\"Juros (Ex.: 3 para 3%): \"))\n",
        "pagamento = float(input(\"Pagamento mensal:\"))\n",
        "mês = 1\n",
        "if (dívida * (taxa/100) > pagamento):\n",
        "  print(\"Sua dívida não será paga nunca, pois os juros são superiores ao pagamento mensal.\")\n",
        "else:\n",
        "  saldo = dívida\n",
        "  juros_pago = 0\n",
        "  while saldo > pagamento:\n",
        "    juros = saldo * taxa / 100\n",
        "    saldo = saldo + juros - pagamento\n",
        "    juros_pago = juros_pago + juros\n",
        "    print(f\"Saldo da dívida no mês {mês} é de R${saldo:6.2f}.\")\n",
        "    mês = mês + 1\n",
        "  print(f\"Para pagar uma dívida de R${dívida:8.2f}, a {taxa:5.2f} %  de juros,\")\n",
        "  print(f\"você precisará de {mês - 1} meses, pagando um total de   R${juros_pago:8.2f} de juros.\")\n",
        "  print(f\"No último mês, você teria um saldo residual de R${saldo   :8.2f} a pagar.\")\n"
      ],
      "metadata": {
        "colab": {
          "base_uri": "https://localhost:8080/"
        },
        "id": "o-RBKG-nCqir",
        "outputId": "3863b6cd-22d9-4f6b-dfe2-6ea43f129f5b"
      },
      "execution_count": 10,
      "outputs": [
        {
          "output_type": "stream",
          "name": "stdout",
          "text": [
            "Dívida: 130000\n",
            "Juros (Ex.: 3 para 3%): 2\n",
            "Pagamento mensal:3110\n",
            "Saldo da dívida no mês 1 é de R$129490.00.\n",
            "Saldo da dívida no mês 2 é de R$128969.80.\n",
            "Saldo da dívida no mês 3 é de R$128439.20.\n",
            "Saldo da dívida no mês 4 é de R$127897.98.\n",
            "Saldo da dívida no mês 5 é de R$127345.94.\n",
            "Saldo da dívida no mês 6 é de R$126782.86.\n",
            "Saldo da dívida no mês 7 é de R$126208.52.\n",
            "Saldo da dívida no mês 8 é de R$125622.69.\n",
            "Saldo da dívida no mês 9 é de R$125025.14.\n",
            "Saldo da dívida no mês 10 é de R$124415.64.\n",
            "Saldo da dívida no mês 11 é de R$123793.96.\n",
            "Saldo da dívida no mês 12 é de R$123159.83.\n",
            "Saldo da dívida no mês 13 é de R$122513.03.\n",
            "Saldo da dívida no mês 14 é de R$121853.29.\n",
            "Saldo da dívida no mês 15 é de R$121180.36.\n",
            "Saldo da dívida no mês 16 é de R$120493.96.\n",
            "Saldo da dívida no mês 17 é de R$119793.84.\n",
            "Saldo da dívida no mês 18 é de R$119079.72.\n",
            "Saldo da dívida no mês 19 é de R$118351.32.\n",
            "Saldo da dívida no mês 20 é de R$117608.34.\n",
            "Saldo da dívida no mês 21 é de R$116850.51.\n",
            "Saldo da dívida no mês 22 é de R$116077.52.\n",
            "Saldo da dívida no mês 23 é de R$115289.07.\n",
            "Saldo da dívida no mês 24 é de R$114484.85.\n",
            "Saldo da dívida no mês 25 é de R$113664.55.\n",
            "Saldo da dívida no mês 26 é de R$112827.84.\n",
            "Saldo da dívida no mês 27 é de R$111974.39.\n",
            "Saldo da dívida no mês 28 é de R$111103.88.\n",
            "Saldo da dívida no mês 29 é de R$110215.96.\n",
            "Saldo da dívida no mês 30 é de R$109310.28.\n",
            "Saldo da dívida no mês 31 é de R$108386.49.\n",
            "Saldo da dívida no mês 32 é de R$107444.21.\n",
            "Saldo da dívida no mês 33 é de R$106483.10.\n",
            "Saldo da dívida no mês 34 é de R$105502.76.\n",
            "Saldo da dívida no mês 35 é de R$104502.82.\n",
            "Saldo da dívida no mês 36 é de R$103482.87.\n",
            "Saldo da dívida no mês 37 é de R$102442.53.\n",
            "Saldo da dívida no mês 38 é de R$101381.38.\n",
            "Saldo da dívida no mês 39 é de R$100299.01.\n",
            "Saldo da dívida no mês 40 é de R$99194.99.\n",
            "Saldo da dívida no mês 41 é de R$98068.89.\n",
            "Saldo da dívida no mês 42 é de R$96920.27.\n",
            "Saldo da dívida no mês 43 é de R$95748.67.\n",
            "Saldo da dívida no mês 44 é de R$94553.64.\n",
            "Saldo da dívida no mês 45 é de R$93334.72.\n",
            "Saldo da dívida no mês 46 é de R$92091.41.\n",
            "Saldo da dívida no mês 47 é de R$90823.24.\n",
            "Saldo da dívida no mês 48 é de R$89529.71.\n",
            "Saldo da dívida no mês 49 é de R$88210.30.\n",
            "Saldo da dívida no mês 50 é de R$86864.51.\n",
            "Saldo da dívida no mês 51 é de R$85491.80.\n",
            "Saldo da dívida no mês 52 é de R$84091.63.\n",
            "Saldo da dívida no mês 53 é de R$82663.46.\n",
            "Saldo da dívida no mês 54 é de R$81206.73.\n",
            "Saldo da dívida no mês 55 é de R$79720.87.\n",
            "Saldo da dívida no mês 56 é de R$78205.29.\n",
            "Saldo da dívida no mês 57 é de R$76659.39.\n",
            "Saldo da dívida no mês 58 é de R$75082.58.\n",
            "Saldo da dívida no mês 59 é de R$73474.23.\n",
            "Saldo da dívida no mês 60 é de R$71833.71.\n",
            "Saldo da dívida no mês 61 é de R$70160.39.\n",
            "Saldo da dívida no mês 62 é de R$68453.60.\n",
            "Saldo da dívida no mês 63 é de R$66712.67.\n",
            "Saldo da dívida no mês 64 é de R$64936.92.\n",
            "Saldo da dívida no mês 65 é de R$63125.66.\n",
            "Saldo da dívida no mês 66 é de R$61278.17.\n",
            "Saldo da dívida no mês 67 é de R$59393.74.\n",
            "Saldo da dívida no mês 68 é de R$57471.61.\n",
            "Saldo da dívida no mês 69 é de R$55511.04.\n",
            "Saldo da dívida no mês 70 é de R$53511.27.\n",
            "Saldo da dívida no mês 71 é de R$51471.49.\n",
            "Saldo da dívida no mês 72 é de R$49390.92.\n",
            "Saldo da dívida no mês 73 é de R$47268.74.\n",
            "Saldo da dívida no mês 74 é de R$45104.11.\n",
            "Saldo da dívida no mês 75 é de R$42896.20.\n",
            "Saldo da dívida no mês 76 é de R$40644.12.\n",
            "Saldo da dívida no mês 77 é de R$38347.00.\n",
            "Saldo da dívida no mês 78 é de R$36003.94.\n",
            "Saldo da dívida no mês 79 é de R$33614.02.\n",
            "Saldo da dívida no mês 80 é de R$31176.30.\n",
            "Saldo da dívida no mês 81 é de R$28689.83.\n",
            "Saldo da dívida no mês 82 é de R$26153.62.\n",
            "Saldo da dívida no mês 83 é de R$23566.70.\n",
            "Saldo da dívida no mês 84 é de R$20928.03.\n",
            "Saldo da dívida no mês 85 é de R$18236.59.\n",
            "Saldo da dívida no mês 86 é de R$15491.32.\n",
            "Saldo da dívida no mês 87 é de R$12691.15.\n",
            "Saldo da dívida no mês 88 é de R$9834.97.\n",
            "Saldo da dívida no mês 89 é de R$6921.67.\n",
            "Saldo da dívida no mês 90 é de R$3950.11.\n",
            "Saldo da dívida no mês 91 é de R$919.11.\n",
            "Para pagar uma dívida de R$130000.00, a  2.00 %  de juros,\n",
            "você precisará de 91 meses, pagando um total de   R$153929.11 de juros.\n",
            "No último mês, você teria um saldo residual de R$  919.11 a pagar.\n"
          ]
        }
      ]
    },
    {
      "cell_type": "markdown",
      "source": [
        "# 7 - Escreva um programa que leia números inteiros do teclado. O programa deve ler os números até que o usuário digite 0 (zero). No final da execução, exiba a quantidade de números digitados, assim como a soma e a média aritmética."
      ],
      "metadata": {
        "id": "KahiMJ29Dc6B"
      }
    },
    {
      "cell_type": "code",
      "source": [
        "soma = 0\n",
        "quantidade = 0\n",
        "while True:\n",
        " n = int(input(\"Digite um número inteiro: \"))\n",
        " if n == 0:\n",
        "  break\n",
        " soma = soma + n\n",
        " quantidade = quantidade + 1\n",
        "print(\"Quantidade de números digitados:\", quantidade)\n",
        "print(\"Soma: \", soma)\n",
        "print(f\"Média: {soma/quantidade:10.2f}\")\n"
      ],
      "metadata": {
        "colab": {
          "base_uri": "https://localhost:8080/"
        },
        "id": "PDiulF-pDiMO",
        "outputId": "84bf12f7-a65b-4468-ff35-fd9b55de6e97"
      },
      "execution_count": 11,
      "outputs": [
        {
          "output_type": "stream",
          "name": "stdout",
          "text": [
            "Digite um número inteiro: 4\n",
            "Digite um número inteiro: 6\n",
            "Digite um número inteiro: 2\n",
            "Digite um número inteiro: 8\n",
            "Digite um número inteiro: 9\n",
            "Digite um número inteiro: 0\n",
            "Quantidade de números digitados: 5\n",
            "Soma:  29\n",
            "Média:       5.80\n"
          ]
        }
      ]
    },
    {
      "cell_type": "markdown",
      "source": [
        "# 8 - Escreva um programa que exiba uma lista de opções (menu): adição, subtração, divisão, multiplicação e sair. Imprima a tabuada da operação escolhida. Repita até que a opção saída seja escolhida."
      ],
      "metadata": {
        "id": "XO4qWgJ3EnDi"
      }
    },
    {
      "cell_type": "code",
      "source": [
        "while True:\n",
        "  print(\"\"\"\n",
        "Menu\n",
        "\\----\n",
        "1 - Adição\n",
        "2 - Subtração\n",
        "3 - Divisão\n",
        "4 - Multiplicação\n",
        "5 - Sair\n",
        "\"\"\")\n",
        "  opção = int(input(\"Escolha uma opção:\"))\n",
        "  if opção == 5:\n",
        "    break\n",
        "  elif opção >= 1 and opção < 5:\n",
        "    n = int(input(\"Tabuada de:\"))\n",
        "    x = 1\n",
        "    while x <= 10:\n",
        "      if opção == 1:\n",
        "        print(f\"{n} + {x} = {n + x}\")\n",
        "      elif opção == 2:\n",
        "        print(f\"{n} - {x} = {n - x}\")\n",
        "      elif opção == 3:\n",
        "        print(f\"{n} / {x} = {n / x:5.4f}\")\n",
        "      elif opção == 4:\n",
        "        print(f\"{n} x {x} = {n * x}\")\n",
        "      x = x + 1\n",
        "  else:\n",
        "    print(\"Opção inválida!\")"
      ],
      "metadata": {
        "colab": {
          "base_uri": "https://localhost:8080/"
        },
        "id": "ugTiu1JEEp-Q",
        "outputId": "477cc2aa-adaa-4c71-816a-2ddfa07df1bb"
      },
      "execution_count": 13,
      "outputs": [
        {
          "name": "stdout",
          "output_type": "stream",
          "text": [
            "\n",
            "Menu\n",
            "\\----\n",
            "1 - Adição\n",
            "2 - Subtração\n",
            "3 - Divisão\n",
            "4 - Multiplicação\n",
            "5 - Sair\n",
            "\n",
            "Escolha uma opção:4\n",
            "Tabuada de:7\n",
            "7 x 1 = 7\n",
            "7 x 2 = 14\n",
            "7 x 3 = 21\n",
            "7 x 4 = 28\n",
            "7 x 5 = 35\n",
            "7 x 6 = 42\n",
            "7 x 7 = 49\n",
            "7 x 8 = 56\n",
            "7 x 9 = 63\n",
            "7 x 10 = 70\n",
            "\n",
            "Menu\n",
            "\\----\n",
            "1 - Adição\n",
            "2 - Subtração\n",
            "3 - Divisão\n",
            "4 - Multiplicação\n",
            "5 - Sair\n",
            "\n",
            "Escolha uma opção:5\n"
          ]
        }
      ]
    },
    {
      "cell_type": "markdown",
      "source": [
        "# 9 - Escreva um programa que leia um número e verifique se é ou não um número primo. Para fazer essa verificação, calcule o resto da divisão do número por 2 e depois por todos os números ímpares até o número lido. Se o resto de uma dessas divisões for igual a zero, o número não é primo. Observe que 0 e 1 não são primos e que 2 é o único número primo que é par."
      ],
      "metadata": {
        "id": "gFojXOQTGMaA"
      }
    },
    {
      "cell_type": "code",
      "source": [
        "n = int(input(\"Digite um número:\"))\n",
        "if n < 0:\n",
        " print(\"Número inválido. Digite apenas valores positivos\")\n",
        "if n == 0 or n == 1:\n",
        " print(f\"{n} é um caso especial.\")\n",
        "else:\n",
        "    if n == 2:\n",
        "        print(\"2 é primo\")\n",
        "    elif n % 2 == 0:\n",
        "        print(f\"{n} não é primo, pois 2 é o único número par primo.\")\n",
        "    else:\n",
        "        x = 3\n",
        "        while(x < n):\n",
        "            if n % x == 0:\n",
        "                break\n",
        "            x = x + 2\n",
        "        if x == n:\n",
        "            print(f\"{n} é primo\")\n",
        "        else:\n",
        "            print(f\"{n} não é primo, pois é divisível por {x}\")"
      ],
      "metadata": {
        "colab": {
          "base_uri": "https://localhost:8080/"
        },
        "id": "4GBWS6JcFYcR",
        "outputId": "b1bda316-bb7f-4d6f-ee82-c7fb32e678d0"
      },
      "execution_count": 15,
      "outputs": [
        {
          "output_type": "stream",
          "name": "stdout",
          "text": [
            "Digite um número:147\n",
            "147 não é primo, pois é divisível por 3\n"
          ]
        }
      ]
    },
    {
      "cell_type": "markdown",
      "source": [
        "# 10 - Escreva um programa de forma a ler um número n e imprimir os n primeiros números primos."
      ],
      "metadata": {
        "id": "2nPyOdwfHGIu"
      }
    },
    {
      "cell_type": "code",
      "source": [
        "n = int(input(\"Digite um número: \"))\n",
        "if n < 0:\n",
        "    print(\"Número inválido. Digite apenas valores positivos\")\n",
        "else:\n",
        "    if n >= 1:\n",
        "        print(\"2\")\n",
        "        p = 1\n",
        "        y = 3\n",
        "        while p < n:\n",
        "            x = 3\n",
        "            while(x < y):\n",
        "                if y % x == 0:\n",
        "                    break\n",
        "                x = x + 2\n",
        "            if x == y:\n",
        "                print(x)\n",
        "                p = p + 1\n",
        "            y = y + 2\n"
      ],
      "metadata": {
        "colab": {
          "base_uri": "https://localhost:8080/"
        },
        "id": "OGRdGW7jG6qX",
        "outputId": "ac41ea6b-0499-41c6-a4a9-ceb46809a59f"
      },
      "execution_count": 20,
      "outputs": [
        {
          "output_type": "stream",
          "name": "stdout",
          "text": [
            "Digite um número: 3\n",
            "2\n",
            "3\n",
            "5\n"
          ]
        }
      ]
    },
    {
      "cell_type": "markdown",
      "source": [
        "# 11 -  imprimir o menor elemento da lista."
      ],
      "metadata": {
        "id": "XINaclFoJVlT"
      }
    },
    {
      "cell_type": "code",
      "source": [
        "L = [4, 2, 1, 7]\n",
        "mínimo = L[0]\n",
        "for e in L:\n",
        "    if e < mínimo:\n",
        "        mínimo = e\n",
        "print(mínimo)\n"
      ],
      "metadata": {
        "colab": {
          "base_uri": "https://localhost:8080/"
        },
        "id": "rScr_3NYHqwD",
        "outputId": "0b0882b3-9d5b-4349-d77b-c0f1091da184"
      },
      "execution_count": 21,
      "outputs": [
        {
          "output_type": "stream",
          "name": "stdout",
          "text": [
            "1\n"
          ]
        }
      ]
    },
    {
      "cell_type": "markdown",
      "source": [
        "# 12 - A lista de temperaturas de Mons, na Bélgica, foi armazenada na lista T = [ -10, -8, 0, 1, 2, 5, -2, -4]. Faça um programa que imprima a menor e a maior temperatura, assim como a temperatura média."
      ],
      "metadata": {
        "id": "zLYYmUhGJlvT"
      }
    },
    {
      "cell_type": "code",
      "source": [
        "T = [-10, -8, 0, 1, 2, 5, -2, -4]\n",
        "mínima = T[0] # A escolha do primeiro elemento é arbitrária, poderia ser qualquer elemento válido\n",
        "máxima = T[0]\n",
        "soma = 0\n",
        "for e in T:\n",
        "    if e < mínima:\n",
        "        mínima = e\n",
        "    if e > máxima:\n",
        "        máxima = e\n",
        "    soma = soma + e\n",
        "print(f\"Temperatura máxima: {máxima} °C\")\n",
        "print(f\"Temperatura mínima: {mínima} °C\")\n",
        "print(f\"Temperatura média: {soma / len(T)} °C\")\n"
      ],
      "metadata": {
        "colab": {
          "base_uri": "https://localhost:8080/"
        },
        "id": "MNudqXDzJcUm",
        "outputId": "31be4a9b-2622-4058-a6d4-6b2c904dc67e"
      },
      "execution_count": 22,
      "outputs": [
        {
          "output_type": "stream",
          "name": "stdout",
          "text": [
            "Temperatura máxima: 5 °C\n",
            "Temperatura mínima: -10 °C\n",
            "Temperatura média: -2.0 °C\n"
          ]
        }
      ]
    },
    {
      "cell_type": "markdown",
      "source": [
        "# 13 - Escreva um Programa de forma a solicitar ao usuário o produto e a quantidade vendida. Verifique se o nome do produto digitado existe no dicionário, e só então efetue a baixa em estoque."
      ],
      "metadata": {
        "id": "aS1NfIZGKKGa"
      }
    },
    {
      "cell_type": "code",
      "source": [
        "estoque = {\"tomate\": [1000, 2.30],\n",
        " \"alface\": [500, 0.45],\n",
        " \"batata\": [2001, 1.20],\n",
        " \"feijão\": [100, 1.50]}\n",
        "total = 0\n",
        "print(\"Vendas:\\n\")\n",
        "while True:\n",
        "    produto = input(\"Nome do produto (fim para sair):\")\n",
        "    if produto == \"fim\":\n",
        "        break\n",
        "    if produto in estoque:\n",
        "        quantidade = int(input(\"Quantidade:\"))\n",
        "        if quantidade <= estoque[produto][0]:\n",
        "            preço = estoque[produto][1]\n",
        "            custo = preço * quantidade\n",
        "            print(f\"{produto:12s}: {quantidade:3d} x {preço:6.2f} = {custo:6.2f}\")\n",
        "            estoque[produto][0] -= quantidade\n",
        "            total += custo\n",
        "        else:\n",
        "            print(\"Quantidade solicitada não disponível\")\n",
        "    else:\n",
        "        print(\"Nome de produto inválido\")\n",
        "print(f\" Custo total: {total:21.2f}\\n\")\n",
        "print(\"Estoque:\\n\")\n",
        "for chave, dados in estoque.items():\n",
        "    print(\"Descrição: \", chave)\n",
        "    print(\"Quantidade: \", dados[0])\n",
        "    print(f\"Preço: {dados[1]:6.2f}\\n\")"
      ],
      "metadata": {
        "colab": {
          "base_uri": "https://localhost:8080/"
        },
        "id": "P7MvAElYJzAg",
        "outputId": "ecbbeacf-6ae1-4888-f7aa-2dee7acece45"
      },
      "execution_count": 24,
      "outputs": [
        {
          "output_type": "stream",
          "name": "stdout",
          "text": [
            "Vendas:\n",
            "\n",
            "Nome do produto (fim para sair):batata\n",
            "Quantidade:5\n",
            "batata      :   5 x   1.20 =   6.00\n",
            "Nome do produto (fim para sair):fim\n",
            " Custo total:                  6.00\n",
            "\n",
            "Estoque:\n",
            "\n",
            "Descrição:  tomate\n",
            "Quantidade:  1000\n",
            "Preço:   2.30\n",
            "\n",
            "Descrição:  alface\n",
            "Quantidade:  500\n",
            "Preço:   0.45\n",
            "\n",
            "Descrição:  batata\n",
            "Quantidade:  1996\n",
            "Preço:   1.20\n",
            "\n",
            "Descrição:  feijão\n",
            "Quantidade:  100\n",
            "Preço:   1.50\n",
            "\n"
          ]
        }
      ]
    },
    {
      "cell_type": "markdown",
      "source": [
        "# 14 - Escreva uma função que retorne o maior de dois números. Valores esperados: máximo(5, 6) == 6, máximo(2, 1) == 2,  máximo(7, 7) == 7."
      ],
      "metadata": {
        "id": "fezWSYmwKJaD"
      }
    },
    {
      "cell_type": "code",
      "source": [
        "def máximo(a, b):\n",
        "    if a > b:\n",
        "        return a\n",
        "    else:\n",
        "        return b\n",
        "        \n",
        "print(f\"máximo(5,6) == 6 -> obtido: {máximo(5,6)}\")\n",
        "print(f\"máximo(2,1) == 2 -> obtido: {máximo(2,1)}\")\n",
        "print(f\"máximo(7,7) == 7 -> obtido: {máximo(7,7)}\")"
      ],
      "metadata": {
        "colab": {
          "base_uri": "https://localhost:8080/"
        },
        "id": "hXcsrOFmMp4m",
        "outputId": "d09ff65c-4fb4-4fc7-e96e-9712d067a69d"
      },
      "execution_count": 25,
      "outputs": [
        {
          "output_type": "stream",
          "name": "stdout",
          "text": [
            "máximo(5,6) == 6 -> obtido: 6\n",
            "máximo(2,1) == 2 -> obtido: 2\n",
            "máximo(7,7) == 7 -> obtido: 7\n"
          ]
        }
      ]
    },
    {
      "cell_type": "markdown",
      "source": [
        "# 15 - Escreva uma função de forma a utilizar os métodos de pesquisa em lista e retorne o índice do elemento pesquisado."
      ],
      "metadata": {
        "id": "-upUMRDvNBXn"
      }
    },
    {
      "cell_type": "code",
      "source": [
        "def pesquise(lista, valor):\n",
        "    if valor in lista:\n",
        "        return lista.index(valor)\n",
        "    return None\n",
        "L = [10, 20, 25, 30]\n",
        "print(pesquise(L, 25))\n",
        "print(pesquise(L, 27))\n"
      ],
      "metadata": {
        "colab": {
          "base_uri": "https://localhost:8080/"
        },
        "id": "4uT6nbGEMvol",
        "outputId": "1a1af699-5f80-4575-f3b6-057eeef0567f"
      },
      "execution_count": 27,
      "outputs": [
        {
          "output_type": "stream",
          "name": "stdout",
          "text": [
            "2\n",
            "None\n"
          ]
        }
      ]
    },
    {
      "cell_type": "code",
      "source": [],
      "metadata": {
        "id": "efomtUM9NEz3"
      },
      "execution_count": null,
      "outputs": []
    }
  ]
}